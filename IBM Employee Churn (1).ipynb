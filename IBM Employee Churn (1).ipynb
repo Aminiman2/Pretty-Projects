{
 "cells": [
  {
   "cell_type": "markdown",
   "metadata": {},
   "source": [
    "# Chapter 9: Random Forest Classifier\n",
    "\n",
    "> (c) 2019 Galit Shmueli, Peter C. Bruce, Peter Gedeck \n",
    ">\n",
    "> Code included in\n",
    ">\n",
    "> _Data Mining for Business Analytics: Concepts, Techniques, and Applications in Python_ (First Edition) \n",
    "> Galit Shmueli, Peter C. Bruce, Peter Gedeck, and Nitin R. Patel. 2019.\n",
    "\n",
    "## Import required packages"
   ]
  },
  {
   "cell_type": "code",
   "execution_count": 28,
   "metadata": {},
   "outputs": [],
   "source": [
    "%matplotlib inline\n",
    "\n",
    "from pathlib import Path\n",
    "\n",
    "import pandas as pd\n",
    "from sklearn import preprocessing\n",
    "from sklearn.model_selection import train_test_split, GridSearchCV\n",
    "from sklearn import metrics\n",
    "from sklearn.metrics import accuracy_score\n",
    "from sklearn.linear_model import LogisticRegression\n",
    "from sklearn.ensemble import RandomForestClassifier\n",
    "import matplotlib.pylab as plt\n",
    "from dmba import classificationSummary, gainsChart, liftChart"
   ]
  },
  {
   "cell_type": "markdown",
   "metadata": {},
   "source": [
    "#### This is the same dataset as used in Homework #3."
   ]
  },
  {
   "cell_type": "code",
   "execution_count": 29,
   "metadata": {},
   "outputs": [
    {
     "data": {
      "text/html": [
       "<div>\n",
       "<style scoped>\n",
       "    .dataframe tbody tr th:only-of-type {\n",
       "        vertical-align: middle;\n",
       "    }\n",
       "\n",
       "    .dataframe tbody tr th {\n",
       "        vertical-align: top;\n",
       "    }\n",
       "\n",
       "    .dataframe thead th {\n",
       "        text-align: right;\n",
       "    }\n",
       "</style>\n",
       "<table border=\"1\" class=\"dataframe\">\n",
       "  <thead>\n",
       "    <tr style=\"text-align: right;\">\n",
       "      <th></th>\n",
       "      <th>Age</th>\n",
       "      <th>Attrition</th>\n",
       "      <th>BusinessTravel</th>\n",
       "      <th>DailyRate</th>\n",
       "      <th>Department</th>\n",
       "      <th>DistanceFromHome</th>\n",
       "      <th>Education</th>\n",
       "      <th>EducationField</th>\n",
       "      <th>EmployeeCount</th>\n",
       "      <th>EmployeeNumber</th>\n",
       "      <th>...</th>\n",
       "      <th>RelationshipSatisfaction</th>\n",
       "      <th>StandardHours</th>\n",
       "      <th>StockOptionLevel</th>\n",
       "      <th>TotalWorkingYears</th>\n",
       "      <th>TrainingTimesLastYear</th>\n",
       "      <th>WorkLifeBalance</th>\n",
       "      <th>YearsAtCompany</th>\n",
       "      <th>YearsInCurrentRole</th>\n",
       "      <th>YearsSinceLastPromotion</th>\n",
       "      <th>YearsWithCurrManager</th>\n",
       "    </tr>\n",
       "  </thead>\n",
       "  <tbody>\n",
       "    <tr>\n",
       "      <th>0</th>\n",
       "      <td>41</td>\n",
       "      <td>Yes</td>\n",
       "      <td>Travel_Rarely</td>\n",
       "      <td>1102</td>\n",
       "      <td>Sales</td>\n",
       "      <td>1</td>\n",
       "      <td>2</td>\n",
       "      <td>Life Sciences</td>\n",
       "      <td>1</td>\n",
       "      <td>1</td>\n",
       "      <td>...</td>\n",
       "      <td>1</td>\n",
       "      <td>80</td>\n",
       "      <td>0</td>\n",
       "      <td>8</td>\n",
       "      <td>0</td>\n",
       "      <td>1</td>\n",
       "      <td>6</td>\n",
       "      <td>4</td>\n",
       "      <td>0</td>\n",
       "      <td>5</td>\n",
       "    </tr>\n",
       "    <tr>\n",
       "      <th>1</th>\n",
       "      <td>49</td>\n",
       "      <td>No</td>\n",
       "      <td>Travel_Frequently</td>\n",
       "      <td>279</td>\n",
       "      <td>Research &amp; Development</td>\n",
       "      <td>8</td>\n",
       "      <td>1</td>\n",
       "      <td>Life Sciences</td>\n",
       "      <td>1</td>\n",
       "      <td>2</td>\n",
       "      <td>...</td>\n",
       "      <td>4</td>\n",
       "      <td>80</td>\n",
       "      <td>1</td>\n",
       "      <td>10</td>\n",
       "      <td>3</td>\n",
       "      <td>3</td>\n",
       "      <td>10</td>\n",
       "      <td>7</td>\n",
       "      <td>1</td>\n",
       "      <td>7</td>\n",
       "    </tr>\n",
       "    <tr>\n",
       "      <th>2</th>\n",
       "      <td>37</td>\n",
       "      <td>Yes</td>\n",
       "      <td>Travel_Rarely</td>\n",
       "      <td>1373</td>\n",
       "      <td>Research &amp; Development</td>\n",
       "      <td>2</td>\n",
       "      <td>2</td>\n",
       "      <td>Other</td>\n",
       "      <td>1</td>\n",
       "      <td>4</td>\n",
       "      <td>...</td>\n",
       "      <td>2</td>\n",
       "      <td>80</td>\n",
       "      <td>0</td>\n",
       "      <td>7</td>\n",
       "      <td>3</td>\n",
       "      <td>3</td>\n",
       "      <td>0</td>\n",
       "      <td>0</td>\n",
       "      <td>0</td>\n",
       "      <td>0</td>\n",
       "    </tr>\n",
       "    <tr>\n",
       "      <th>3</th>\n",
       "      <td>33</td>\n",
       "      <td>No</td>\n",
       "      <td>Travel_Frequently</td>\n",
       "      <td>1392</td>\n",
       "      <td>Research &amp; Development</td>\n",
       "      <td>3</td>\n",
       "      <td>4</td>\n",
       "      <td>Life Sciences</td>\n",
       "      <td>1</td>\n",
       "      <td>5</td>\n",
       "      <td>...</td>\n",
       "      <td>3</td>\n",
       "      <td>80</td>\n",
       "      <td>0</td>\n",
       "      <td>8</td>\n",
       "      <td>3</td>\n",
       "      <td>3</td>\n",
       "      <td>8</td>\n",
       "      <td>7</td>\n",
       "      <td>3</td>\n",
       "      <td>0</td>\n",
       "    </tr>\n",
       "    <tr>\n",
       "      <th>4</th>\n",
       "      <td>27</td>\n",
       "      <td>No</td>\n",
       "      <td>Travel_Rarely</td>\n",
       "      <td>591</td>\n",
       "      <td>Research &amp; Development</td>\n",
       "      <td>2</td>\n",
       "      <td>1</td>\n",
       "      <td>Medical</td>\n",
       "      <td>1</td>\n",
       "      <td>7</td>\n",
       "      <td>...</td>\n",
       "      <td>4</td>\n",
       "      <td>80</td>\n",
       "      <td>1</td>\n",
       "      <td>6</td>\n",
       "      <td>3</td>\n",
       "      <td>3</td>\n",
       "      <td>2</td>\n",
       "      <td>2</td>\n",
       "      <td>2</td>\n",
       "      <td>2</td>\n",
       "    </tr>\n",
       "  </tbody>\n",
       "</table>\n",
       "<p>5 rows × 35 columns</p>\n",
       "</div>"
      ],
      "text/plain": [
       "   Age Attrition     BusinessTravel  DailyRate              Department  \\\n",
       "0   41       Yes      Travel_Rarely       1102                   Sales   \n",
       "1   49        No  Travel_Frequently        279  Research & Development   \n",
       "2   37       Yes      Travel_Rarely       1373  Research & Development   \n",
       "3   33        No  Travel_Frequently       1392  Research & Development   \n",
       "4   27        No      Travel_Rarely        591  Research & Development   \n",
       "\n",
       "   DistanceFromHome  Education EducationField  EmployeeCount  EmployeeNumber  \\\n",
       "0                 1          2  Life Sciences              1               1   \n",
       "1                 8          1  Life Sciences              1               2   \n",
       "2                 2          2          Other              1               4   \n",
       "3                 3          4  Life Sciences              1               5   \n",
       "4                 2          1        Medical              1               7   \n",
       "\n",
       "   ...  RelationshipSatisfaction StandardHours  StockOptionLevel  \\\n",
       "0  ...                         1            80                 0   \n",
       "1  ...                         4            80                 1   \n",
       "2  ...                         2            80                 0   \n",
       "3  ...                         3            80                 0   \n",
       "4  ...                         4            80                 1   \n",
       "\n",
       "   TotalWorkingYears  TrainingTimesLastYear WorkLifeBalance  YearsAtCompany  \\\n",
       "0                  8                      0               1               6   \n",
       "1                 10                      3               3              10   \n",
       "2                  7                      3               3               0   \n",
       "3                  8                      3               3               8   \n",
       "4                  6                      3               3               2   \n",
       "\n",
       "  YearsInCurrentRole  YearsSinceLastPromotion  YearsWithCurrManager  \n",
       "0                  4                        0                     5  \n",
       "1                  7                        1                     7  \n",
       "2                  0                        0                     0  \n",
       "3                  7                        3                     0  \n",
       "4                  2                        2                     2  \n",
       "\n",
       "[5 rows x 35 columns]"
      ]
     },
     "execution_count": 29,
     "metadata": {},
     "output_type": "execute_result"
    }
   ],
   "source": [
    "hr_df = pd.read_csv('/Users/aminazimi/Downloads/WA_Fn-UseC_-HR-Employee-Attrition.csv')\n",
    "hr_df.head()"
   ]
  },
  {
   "cell_type": "code",
   "execution_count": 30,
   "metadata": {},
   "outputs": [
    {
     "data": {
      "text/plain": [
       "(1470, 35)"
      ]
     },
     "execution_count": 30,
     "metadata": {},
     "output_type": "execute_result"
    }
   ],
   "source": [
    "hr_df.shape"
   ]
  },
  {
   "cell_type": "code",
   "execution_count": 31,
   "metadata": {},
   "outputs": [
    {
     "data": {
      "text/plain": [
       "Age                          int64\n",
       "Attrition                   object\n",
       "BusinessTravel              object\n",
       "DailyRate                    int64\n",
       "Department                  object\n",
       "DistanceFromHome             int64\n",
       "Education                    int64\n",
       "EducationField              object\n",
       "EmployeeCount                int64\n",
       "EmployeeNumber               int64\n",
       "EnvironmentSatisfaction      int64\n",
       "Gender                      object\n",
       "HourlyRate                   int64\n",
       "JobInvolvement               int64\n",
       "JobLevel                     int64\n",
       "JobRole                     object\n",
       "JobSatisfaction              int64\n",
       "MaritalStatus               object\n",
       "MonthlyIncome                int64\n",
       "MonthlyRate                  int64\n",
       "NumCompaniesWorked           int64\n",
       "Over18                      object\n",
       "OverTime                    object\n",
       "PercentSalaryHike            int64\n",
       "PerformanceRating            int64\n",
       "RelationshipSatisfaction     int64\n",
       "StandardHours                int64\n",
       "StockOptionLevel             int64\n",
       "TotalWorkingYears            int64\n",
       "TrainingTimesLastYear        int64\n",
       "WorkLifeBalance              int64\n",
       "YearsAtCompany               int64\n",
       "YearsInCurrentRole           int64\n",
       "YearsSinceLastPromotion      int64\n",
       "YearsWithCurrManager         int64\n",
       "dtype: object"
      ]
     },
     "execution_count": 31,
     "metadata": {},
     "output_type": "execute_result"
    }
   ],
   "source": [
    "hr_df.dtypes"
   ]
  },
  {
   "cell_type": "code",
   "execution_count": 32,
   "metadata": {},
   "outputs": [
    {
     "name": "stdout",
     "output_type": "stream",
     "text": [
      "34\n"
     ]
    }
   ],
   "source": [
    "# Create a y response variable and an X collection of predictors\n",
    "y = hr_df['Attrition']\n",
    "X = hr_df.drop(columns=['Attrition'])\n",
    "print(len(X.columns))"
   ]
  },
  {
   "cell_type": "code",
   "execution_count": 33,
   "metadata": {},
   "outputs": [
    {
     "name": "stdout",
     "output_type": "stream",
     "text": [
      "47\n"
     ]
    }
   ],
   "source": [
    "# Dummy code in preparation of logistic regression\n",
    "X = pd.get_dummies(X, prefix_sep='_', drop_first=True)\n",
    "print(len(X.columns))"
   ]
  },
  {
   "cell_type": "code",
   "execution_count": 34,
   "metadata": {},
   "outputs": [
    {
     "data": {
      "text/plain": [
       "0    1233\n",
       "1     237\n",
       "dtype: int64"
      ]
     },
     "execution_count": 34,
     "metadata": {},
     "output_type": "execute_result"
    }
   ],
   "source": [
    "# Convert the text of Gone to a binary numeric variable (0/1)\n",
    "y = y.astype('category').cat.codes\n",
    "\n",
    "# Check for a class imbalance\n",
    "y.value_counts()"
   ]
  },
  {
   "cell_type": "markdown",
   "metadata": {},
   "source": [
    "#### Print out a list of attributes by name and sequence number to prepare for ADASYN"
   ]
  },
  {
   "cell_type": "code",
   "execution_count": 35,
   "metadata": {},
   "outputs": [
    {
     "name": "stdout",
     "output_type": "stream",
     "text": [
      "                                    0\n",
      "0                                 Age\n",
      "1                           DailyRate\n",
      "2                    DistanceFromHome\n",
      "3                           Education\n",
      "4                       EmployeeCount\n",
      "5                      EmployeeNumber\n",
      "6             EnvironmentSatisfaction\n",
      "7                          HourlyRate\n",
      "8                      JobInvolvement\n",
      "9                            JobLevel\n",
      "10                    JobSatisfaction\n",
      "11                      MonthlyIncome\n",
      "12                        MonthlyRate\n",
      "13                 NumCompaniesWorked\n",
      "14                  PercentSalaryHike\n",
      "15                  PerformanceRating\n",
      "16           RelationshipSatisfaction\n",
      "17                      StandardHours\n",
      "18                   StockOptionLevel\n",
      "19                  TotalWorkingYears\n",
      "20              TrainingTimesLastYear\n",
      "21                    WorkLifeBalance\n",
      "22                     YearsAtCompany\n",
      "23                 YearsInCurrentRole\n",
      "24            YearsSinceLastPromotion\n",
      "25               YearsWithCurrManager\n",
      "26   BusinessTravel_Travel_Frequently\n",
      "27       BusinessTravel_Travel_Rarely\n",
      "28  Department_Research & Development\n",
      "29                   Department_Sales\n",
      "30       EducationField_Life Sciences\n",
      "31           EducationField_Marketing\n",
      "32             EducationField_Medical\n",
      "33               EducationField_Other\n",
      "34    EducationField_Technical Degree\n",
      "35                        Gender_Male\n",
      "36            JobRole_Human Resources\n",
      "37      JobRole_Laboratory Technician\n",
      "38                    JobRole_Manager\n",
      "39     JobRole_Manufacturing Director\n",
      "40          JobRole_Research Director\n",
      "41         JobRole_Research Scientist\n",
      "42            JobRole_Sales Executive\n",
      "43       JobRole_Sales Representative\n",
      "44              MaritalStatus_Married\n",
      "45               MaritalStatus_Single\n",
      "46                       OverTime_Yes\n"
     ]
    }
   ],
   "source": [
    "print(pd.DataFrame(X.columns))"
   ]
  },
  {
   "cell_type": "markdown",
   "metadata": {},
   "source": [
    "#### Train/test split with stratification of the response variable"
   ]
  },
  {
   "cell_type": "code",
   "execution_count": 36,
   "metadata": {},
   "outputs": [],
   "source": [
    "# Split the data into training and test sets (holdout approach)\n",
    "train_X, test_X, train_y, test_y = train_test_split(X, y, test_size=0.2, stratify=y, random_state=2019)"
   ]
  },
  {
   "cell_type": "markdown",
   "metadata": {},
   "source": [
    "#### Fix the class imbalance issue on the training data."
   ]
  },
  {
   "cell_type": "code",
   "execution_count": 37,
   "metadata": {},
   "outputs": [],
   "source": [
    "from imblearn.over_sampling import ADASYN\n",
    "\n",
    "ada = ADASYN()\n",
    "train_X, train_y = ada.fit_sample(train_X, train_y.ravel())"
   ]
  },
  {
   "cell_type": "markdown",
   "metadata": {},
   "source": [
    "### Logistic Regression Baseline"
   ]
  },
  {
   "cell_type": "code",
   "execution_count": 38,
   "metadata": {},
   "outputs": [
    {
     "data": {
      "text/plain": [
       "LogisticRegression(C=1e+42, solver='liblinear')"
      ]
     },
     "execution_count": 38,
     "metadata": {},
     "output_type": "execute_result"
    }
   ],
   "source": [
    "# Build a logistic regression model as a baseline\n",
    "logit_reg = LogisticRegression(penalty=\"l2\", C=1e42, solver='liblinear')\n",
    "logit_reg.fit(train_X, train_y)"
   ]
  },
  {
   "cell_type": "code",
   "execution_count": 39,
   "metadata": {},
   "outputs": [
    {
     "name": "stdout",
     "output_type": "stream",
     "text": [
      "Confusion Matrix (Accuracy 0.9142)\n",
      "\n",
      "       Prediction\n",
      "Actual   0   1\n",
      "     0 930  56\n",
      "     1 110 839\n",
      "Confusion Matrix (Accuracy 0.8367)\n",
      "\n",
      "       Prediction\n",
      "Actual   0   1\n",
      "     0 226  21\n",
      "     1  27  20\n"
     ]
    }
   ],
   "source": [
    "# we are only interested in classification accuracy\n",
    "classificationSummary(train_y, logit_reg.predict(train_X))\n",
    "classificationSummary(test_y, logit_reg.predict(test_X))"
   ]
  },
  {
   "cell_type": "code",
   "execution_count": 40,
   "metadata": {},
   "outputs": [
    {
     "name": "stdout",
     "output_type": "stream",
     "text": [
      "              precision    recall  f1-score   support\n",
      "\n",
      "           0       0.89      0.91      0.90       247\n",
      "           1       0.49      0.43      0.45        47\n",
      "\n",
      "    accuracy                           0.84       294\n",
      "   macro avg       0.69      0.67      0.68       294\n",
      "weighted avg       0.83      0.84      0.83       294\n",
      "\n"
     ]
    }
   ],
   "source": [
    "classes = logit_reg.predict(test_X)\n",
    "\n",
    "print(metrics.classification_report(test_y, classes))"
   ]
  },
  {
   "cell_type": "markdown",
   "metadata": {},
   "source": [
    "### Use RandomForest\n",
    "#### Start by recreating the X and y objects to change one-hot encoding parameter"
   ]
  },
  {
   "cell_type": "code",
   "execution_count": 41,
   "metadata": {},
   "outputs": [],
   "source": [
    "# Create a y response variable and an X collection of predictors\n",
    "y = hr_df['Attrition']\n",
    "X = hr_df.drop(columns=['Attrition'])"
   ]
  },
  {
   "cell_type": "code",
   "execution_count": 42,
   "metadata": {},
   "outputs": [
    {
     "name": "stdout",
     "output_type": "stream",
     "text": [
      "55\n"
     ]
    }
   ],
   "source": [
    "# Dummy code in preparation of RandomForest model\n",
    "X = pd.get_dummies(X, prefix_sep='_', drop_first=False)\n",
    "print(len(X.columns))"
   ]
  },
  {
   "cell_type": "code",
   "execution_count": 43,
   "metadata": {},
   "outputs": [
    {
     "data": {
      "text/plain": [
       "0    1233\n",
       "1     237\n",
       "dtype: int64"
      ]
     },
     "execution_count": 43,
     "metadata": {},
     "output_type": "execute_result"
    }
   ],
   "source": [
    "# Convert the text of Gone to a binary numeric variable (0/1)\n",
    "y = y.astype('category').cat.codes\n",
    "y.value_counts()"
   ]
  },
  {
   "cell_type": "code",
   "execution_count": 44,
   "metadata": {},
   "outputs": [],
   "source": [
    "# Split the data into training and test sets (holdout approach)\n",
    "train_X, test_X, train_y, test_y = train_test_split(X, y, test_size=0.2, stratify=y, random_state=1)"
   ]
  },
  {
   "cell_type": "code",
   "execution_count": 45,
   "metadata": {},
   "outputs": [],
   "source": [
    "from imblearn.over_sampling import ADASYN\n",
    "\n",
    "ada = ADASYN()\n",
    "train_X, train_y = ada.fit_sample(train_X, train_y)"
   ]
  },
  {
   "cell_type": "code",
   "execution_count": 46,
   "metadata": {},
   "outputs": [],
   "source": [
    "# user grid search to find optimized tree\n",
    "param_grid = {\n",
    "    'n_estimators': [550, 600, 650], \n",
    "    'criterion' : ['entropy', 'gini'],\n",
    "    'oob_score': ['True'],\n",
    "    'min_impurity_decrease': [0.0001, .0005, 0.001], \n",
    "    'min_samples_split': [2, 4, 6, 8, 10, 12, 14], \n",
    "}"
   ]
  },
  {
   "cell_type": "code",
   "execution_count": 47,
   "metadata": {},
   "outputs": [
    {
     "name": "stdout",
     "output_type": "stream",
     "text": [
      "Initial parameters:  {'criterion': 'entropy', 'min_impurity_decrease': 0.0005, 'min_samples_split': 2, 'n_estimators': 650, 'oob_score': 'True'}\n"
     ]
    }
   ],
   "source": [
    "gridSearch = GridSearchCV(RandomForestClassifier(), param_grid, cv=2, n_jobs=-1)\n",
    "\n",
    "gridSearch.fit(train_X, train_y)\n",
    "\n",
    "print('Initial parameters: ', gridSearch.best_params_)\n",
    "\n",
    "rfTree = gridSearch.best_estimator_"
   ]
  },
  {
   "cell_type": "markdown",
   "metadata": {},
   "source": [
    "##### Based on these chosen hyperparameters, reprogram the GridSearchCV for a finer search pattern and run again"
   ]
  },
  {
   "cell_type": "code",
   "execution_count": 48,
   "metadata": {},
   "outputs": [
    {
     "name": "stdout",
     "output_type": "stream",
     "text": [
      "0.9363683393688567\n"
     ]
    }
   ],
   "source": [
    "print(rfTree.oob_score_)"
   ]
  },
  {
   "cell_type": "code",
   "execution_count": 49,
   "metadata": {},
   "outputs": [
    {
     "name": "stdout",
     "output_type": "stream",
     "text": [
      "Confusion Matrix (Accuracy 1.0000)\n",
      "\n",
      "       Prediction\n",
      "Actual   0   1\n",
      "     0 986   0\n",
      "     1   0 947\n",
      "Confusion Matrix (Accuracy 0.8639)\n",
      "\n",
      "       Prediction\n",
      "Actual   0   1\n",
      "     0 236  11\n",
      "     1  29  18\n"
     ]
    }
   ],
   "source": [
    "# we are only interested in classification accuracy\n",
    "classificationSummary(train_y, rfTree.predict(train_X))\n",
    "\n",
    "classificationSummary(test_y, rfTree.predict(test_X))"
   ]
  },
  {
   "cell_type": "code",
   "execution_count": 50,
   "metadata": {},
   "outputs": [
    {
     "name": "stdout",
     "output_type": "stream",
     "text": [
      "              precision    recall  f1-score   support\n",
      "\n",
      "           0       0.89      0.96      0.92       247\n",
      "           1       0.62      0.38      0.47        47\n",
      "\n",
      "    accuracy                           0.86       294\n",
      "   macro avg       0.76      0.67      0.70       294\n",
      "weighted avg       0.85      0.86      0.85       294\n",
      "\n"
     ]
    }
   ],
   "source": [
    "classes = rfTree.predict(test_X)\n",
    "\n",
    "print(metrics.classification_report(test_y, classes))"
   ]
  },
  {
   "cell_type": "code",
   "execution_count": 51,
   "metadata": {},
   "outputs": [
    {
     "name": "stdout",
     "output_type": "stream",
     "text": [
      "                              feature  importance       std\n",
      "52                           Over18_Y    0.000000  0.000000\n",
      "4                       EmployeeCount    0.000000  0.000000\n",
      "17                      StandardHours    0.000000  0.000000\n",
      "32     EducationField_Human Resources    0.001050  0.002481\n",
      "45          JobRole_Research Director    0.001477  0.003329\n",
      "48       JobRole_Sales Representative    0.001953  0.003030\n",
      "41            JobRole_Human Resources    0.002479  0.005130\n",
      "43                    JobRole_Manager    0.003424  0.006331\n",
      "37    EducationField_Technical Degree    0.003461  0.004841\n",
      "29         Department_Human Resources    0.003739  0.007285\n",
      "42      JobRole_Laboratory Technician    0.003799  0.004254\n",
      "36               EducationField_Other    0.003828  0.005746\n",
      "15                  PerformanceRating    0.004056  0.004391\n",
      "40  JobRole_Healthcare Representative    0.004466  0.006217\n",
      "34           EducationField_Marketing    0.004548  0.005844\n",
      "44     JobRole_Manufacturing Director    0.004581  0.007037\n",
      "27   BusinessTravel_Travel_Frequently    0.005003  0.006703\n",
      "47            JobRole_Sales Executive    0.005813  0.007366\n",
      "46         JobRole_Research Scientist    0.008602  0.007331\n",
      "26          BusinessTravel_Non-Travel    0.008962  0.011186\n",
      "31                   Department_Sales    0.012481  0.017998\n",
      "51               MaritalStatus_Single    0.012788  0.018689\n",
      "3                           Education    0.013494  0.008160\n",
      "24            YearsSinceLastPromotion    0.014650  0.007634\n",
      "28       BusinessTravel_Travel_Rarely    0.015051  0.011942\n",
      "20              TrainingTimesLastYear    0.015918  0.008534\n",
      "39                        Gender_Male    0.016353  0.023789\n",
      "13                 NumCompaniesWorked    0.016583  0.008010\n",
      "54                       OverTime_Yes    0.017501  0.019800\n",
      "35             EducationField_Medical    0.017555  0.016783\n",
      "14                  PercentSalaryHike    0.018481  0.008281\n",
      "38                      Gender_Female    0.023157  0.018143\n",
      "25               YearsWithCurrManager    0.023293  0.014175\n",
      "33       EducationField_Life Sciences    0.023576  0.020836\n",
      "9                            JobLevel    0.023641  0.018790\n",
      "16           RelationshipSatisfaction    0.023903  0.013635\n",
      "23                 YearsInCurrentRole    0.024322  0.015407\n",
      "22                     YearsAtCompany    0.026923  0.015451\n",
      "7                          HourlyRate    0.027056  0.010976\n",
      "19                  TotalWorkingYears    0.027402  0.013848\n",
      "0                                 Age    0.027570  0.011730\n",
      "30  Department_Research & Development    0.027627  0.021724\n",
      "5                      EmployeeNumber    0.028345  0.011215\n",
      "49             MaritalStatus_Divorced    0.028383  0.026416\n",
      "1                           DailyRate    0.029055  0.011895\n",
      "12                        MonthlyRate    0.029524  0.011369\n",
      "21                    WorkLifeBalance    0.029726  0.019256\n",
      "2                    DistanceFromHome    0.029826  0.012640\n",
      "50              MaritalStatus_Married    0.031528  0.025325\n",
      "6             EnvironmentSatisfaction    0.031860  0.017799\n",
      "10                    JobSatisfaction    0.032577  0.018582\n",
      "8                      JobInvolvement    0.033598  0.021211\n",
      "11                      MonthlyIncome    0.043121  0.019728\n",
      "18                   StockOptionLevel    0.046621  0.034801\n",
      "53                        OverTime_No    0.085268  0.044898\n"
     ]
    },
    {
     "data": {
      "image/png": "[encoded data removed]",
      "text/plain": [
       "<Figure size 432x288 with 1 Axes>"
      ]
     },
     "metadata": {
      "needs_background": "light"
     },
     "output_type": "display_data"
    }
   ],
   "source": [
    "%matplotlib inline\n",
    "import numpy as np\n",
    "\n",
    "train_X = pd.DataFrame(train_X)\n",
    "\n",
    "importances = rfTree.feature_importances_\n",
    "std = np.std([tree.feature_importances_ for tree in rfTree.estimators_], axis=0)\n",
    "\n",
    "df = pd.DataFrame({'feature': train_X.columns, 'importance': importances, 'std': std})\n",
    "df = df.sort_values('importance')\n",
    "print(df)\n",
    "\n",
    "ax = df.plot(kind='barh', xerr='std', x='feature', legend=False)\n",
    "ax.set_ylabel('')\n",
    "\n",
    "plt.tight_layout()\n",
    "plt.show()"
   ]
  },
  {
   "cell_type": "code",
   "execution_count": 52,
   "metadata": {},
   "outputs": [
    {
     "data": {
      "image/png": "[encoded data removed]",
      "text/plain": [
       "<Figure size 720x288 with 2 Axes>"
      ]
     },
     "metadata": {
      "needs_background": "light"
     },
     "output_type": "display_data"
    }
   ],
   "source": [
    "rfTree_pred = rfTree.predict(test_X)\n",
    "rfTree_proba = rfTree.predict_proba(test_X)\n",
    "rfTree_result = pd.DataFrame({'actual': test_y, \n",
    "                             'p(0)': [p[0] for p in rfTree_proba],\n",
    "                             'p(1)': [p[1] for p in rfTree_proba],\n",
    "                             'predicted': rfTree_pred })\n",
    "\n",
    "df = rfTree_result.sort_values(by=['p(1)'], ascending=False)\n",
    "fig, axes = plt.subplots(nrows=1, ncols=2, figsize=(10, 4))\n",
    "\n",
    "gainsChart(df.actual, ax=axes[0])\n",
    "liftChart(df['p(1)'], title=False, ax=axes[1])\n",
    "    \n",
    "plt.tight_layout()\n",
    "plt.show()"
   ]
  },
  {
   "cell_type": "code",
   "execution_count": 53,
   "metadata": {},
   "outputs": [
    {
     "data": {
      "image/png": "[encoded data removed]",
      "text/plain": [
       "<Figure size 432x288 with 1 Axes>"
      ]
     },
     "metadata": {
      "needs_background": "light"
     },
     "output_type": "display_data"
    }
   ],
   "source": [
    "rfTree_pred = rfTree.predict(test_X)\n",
    "rfTree_proba = rfTree.predict_proba(test_X)\n",
    "\n",
    "preds = rfTree_proba[:,1]\n",
    "fpr, tpr, threshold = metrics.roc_curve(test_y, preds)\n",
    "roc_auc = metrics.auc(fpr, tpr)\n",
    "\n",
    "plt.figure()\n",
    "plt.plot(fpr, tpr, label='RandomForest (area = %0.2f)' % roc_auc)\n",
    "plt.plot([0, 1], [0, 1],'r--')\n",
    "plt.xlim([0.0, 1.0])\n",
    "plt.ylim([0.0, 1.05])\n",
    "plt.xlabel('False Positive Rate')\n",
    "plt.ylabel('True Positive Rate')\n",
    "plt.title('Receiver operating characteristic')\n",
    "plt.legend(loc=\"lower right\")\n",
    "plt.savefig('RFTree_ROC')\n",
    "plt.show()"
   ]
  },
  {
   "cell_type": "code",
   "execution_count": null,
   "metadata": {},
   "outputs": [],
   "source": []
  }
 ],
 "metadata": {
  "kernelspec": {
   "display_name": "Python 3 (ipykernel)",
   "language": "python",
   "name": "python3"
  },
  "language_info": {
   "codemirror_mode": {
    "name": "ipython",
    "version": 3
   },
   "file_extension": ".py",
   "mimetype": "text/x-python",
   "name": "python",
   "nbconvert_exporter": "python",
   "pygments_lexer": "ipython3",
   "version": "3.9.7"
  },
  "varInspector": {
   "cols": {
    "lenName": 16,
    "lenType": 16,
    "lenVar": 40
   },
   "kernels_config": {
    "python": {
     "delete_cmd_postfix": "",
     "delete_cmd_prefix": "del ",
     "library": "var_list.py",
     "varRefreshCmd": "print(var_dic_list())"
    },
    "r": {
     "delete_cmd_postfix": ") ",
     "delete_cmd_prefix": "rm(",
     "library": "var_list.r",
     "varRefreshCmd": "cat(var_dic_list()) "
    }
   },
   "position": {
    "height": "220px",
    "left": "1921px",
    "right": "20px",
    "top": "162px",
    "width": "477px"
   },
   "types_to_exclude": [
    "module",
    "function",
    "builtin_function_or_method",
    "instance",
    "_Feature"
   ],
   "window_display": true
  }
 },
 "nbformat": 4,
 "nbformat_minor": 2
}
